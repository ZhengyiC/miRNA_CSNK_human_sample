{
 "cells": [
  {
   "cell_type": "markdown",
   "metadata": {},
   "source": [
    "# This notebook adds scores and labels to the discovery dataset\n",
    "- score miRNA target genes as signatures\n",
    "- annotate the dataset with KRAS mutation information"
   ]
  },
  {
   "cell_type": "code",
   "execution_count": 23,
   "metadata": {},
   "outputs": [],
   "source": [
    "import scanpy as sc\n",
    "import pandas as pd\n",
    "import numpy as np\n",
    "from matplotlib import pyplot as plt\n",
    "import seaborn as sn \n",
    "import sys\n",
    "import os"
   ]
  },
  {
   "cell_type": "code",
   "execution_count": 24,
   "metadata": {},
   "outputs": [],
   "source": [
    "import calculation_function as calc"
   ]
  },
  {
   "cell_type": "code",
   "execution_count": 25,
   "metadata": {},
   "outputs": [],
   "source": [
    "sc.set_figure_params(figsize=[5,5])"
   ]
  },
  {
   "cell_type": "markdown",
   "metadata": {},
   "source": [
    "## Load related data"
   ]
  },
  {
   "cell_type": "code",
   "execution_count": 7,
   "metadata": {},
   "outputs": [],
   "source": [
    "#path to the scRNA h5ad files\n",
    "data_path = \"/home/lucy/disc_vali_full_dataset/\""
   ]
  },
  {
   "cell_type": "code",
   "execution_count": 3,
   "metadata": {},
   "outputs": [],
   "source": [
    "#miRNA target gene file\n",
    "miRNA_family = pd.read_csv(\"./converted_miRNA_family.csv\", index_col=0)"
   ]
  },
  {
   "cell_type": "code",
   "execution_count": 4,
   "metadata": {},
   "outputs": [
    {
     "data": {
      "text/html": [
       "<div>\n",
       "<style scoped>\n",
       "    .dataframe tbody tr th:only-of-type {\n",
       "        vertical-align: middle;\n",
       "    }\n",
       "\n",
       "    .dataframe tbody tr th {\n",
       "        vertical-align: top;\n",
       "    }\n",
       "\n",
       "    .dataframe thead th {\n",
       "        text-align: right;\n",
       "    }\n",
       "</style>\n",
       "<table border=\"1\" class=\"dataframe\">\n",
       "  <thead>\n",
       "    <tr style=\"text-align: right;\">\n",
       "      <th></th>\n",
       "      <th>miR-10-5p</th>\n",
       "      <th>miR-135ab-5p</th>\n",
       "      <th>miR-218-5p</th>\n",
       "      <th>miR-190-5p</th>\n",
       "      <th>miR-193-3p</th>\n",
       "      <th>miR-33-5p</th>\n",
       "      <th>miR-182-5p</th>\n",
       "      <th>miR-362-5p</th>\n",
       "      <th>miR-23-3p</th>\n",
       "      <th>miR-18-5p</th>\n",
       "      <th>...</th>\n",
       "      <th>miR-361-5p</th>\n",
       "      <th>let-7d-3p</th>\n",
       "      <th>miR-375-3p</th>\n",
       "      <th>miR-148-3p/152-3p</th>\n",
       "      <th>miR-153-3p</th>\n",
       "      <th>miR-146ab-5p</th>\n",
       "      <th>miR-31-5p</th>\n",
       "      <th>miR-132-3p/212-3p</th>\n",
       "      <th>miR-99-5p/100-5p</th>\n",
       "      <th>miR-28-5p/708-5p</th>\n",
       "    </tr>\n",
       "  </thead>\n",
       "  <tbody>\n",
       "    <tr>\n",
       "      <th>0</th>\n",
       "      <td>MCU</td>\n",
       "      <td>LTV1</td>\n",
       "      <td>PHF3</td>\n",
       "      <td>TP53INP1</td>\n",
       "      <td>TFCP2L1</td>\n",
       "      <td>ZBTB41</td>\n",
       "      <td>CTDSP1</td>\n",
       "      <td>DLL1</td>\n",
       "      <td>SGPP2</td>\n",
       "      <td>PRDX6</td>\n",
       "      <td>...</td>\n",
       "      <td>BLMH</td>\n",
       "      <td>PSMB4</td>\n",
       "      <td>RGS16</td>\n",
       "      <td>MGAT5</td>\n",
       "      <td>DOT1L</td>\n",
       "      <td>ATF6</td>\n",
       "      <td>MRPL44</td>\n",
       "      <td>VIL1</td>\n",
       "      <td>SCML4</td>\n",
       "      <td>KRT20</td>\n",
       "    </tr>\n",
       "    <tr>\n",
       "      <th>1</th>\n",
       "      <td>ZNF274</td>\n",
       "      <td>RNF167</td>\n",
       "      <td>ICOSLG</td>\n",
       "      <td>WDR11</td>\n",
       "      <td>SLC40A1</td>\n",
       "      <td>ATP10B</td>\n",
       "      <td>MYO1A</td>\n",
       "      <td>DNAJC5</td>\n",
       "      <td>NUAK2</td>\n",
       "      <td>MICU1</td>\n",
       "      <td>...</td>\n",
       "      <td>SLFN12L</td>\n",
       "      <td>UBXN1</td>\n",
       "      <td>EIF4EBP2</td>\n",
       "      <td>DEDD</td>\n",
       "      <td>ATP5O</td>\n",
       "      <td>ELMSAN1</td>\n",
       "      <td>SATB2</td>\n",
       "      <td>MAP7</td>\n",
       "      <td>TRIB2</td>\n",
       "      <td>DDX5</td>\n",
       "    </tr>\n",
       "    <tr>\n",
       "      <th>2</th>\n",
       "      <td>ZNF367</td>\n",
       "      <td>HNRNPAB</td>\n",
       "      <td>MED1</td>\n",
       "      <td>DCBLD1</td>\n",
       "      <td>LAMC2</td>\n",
       "      <td>JARID2</td>\n",
       "      <td>SKP1</td>\n",
       "      <td>TRPC4AP</td>\n",
       "      <td>PPP1R15B</td>\n",
       "      <td>SREBF1</td>\n",
       "      <td>...</td>\n",
       "      <td>HIF1A</td>\n",
       "      <td>CCNL1</td>\n",
       "      <td>HPCAL1</td>\n",
       "      <td>STX7</td>\n",
       "      <td>GAPDHS</td>\n",
       "      <td>ZNF367</td>\n",
       "      <td>MYO19</td>\n",
       "      <td>FOXO3</td>\n",
       "      <td>LPIN1</td>\n",
       "      <td>DCP1A</td>\n",
       "    </tr>\n",
       "    <tr>\n",
       "      <th>3</th>\n",
       "      <td>GNL3</td>\n",
       "      <td>SSR1</td>\n",
       "      <td>TOB2</td>\n",
       "      <td>CREBBP</td>\n",
       "      <td>BAZ2A</td>\n",
       "      <td>PIM3</td>\n",
       "      <td>MYO19</td>\n",
       "      <td>CA1</td>\n",
       "      <td>SCYL3</td>\n",
       "      <td>FASN</td>\n",
       "      <td>...</td>\n",
       "      <td>LARP4B</td>\n",
       "      <td>PLXNA1</td>\n",
       "      <td>NIPBL</td>\n",
       "      <td>AP1B1</td>\n",
       "      <td>NFAT5</td>\n",
       "      <td>ERBB2IP</td>\n",
       "      <td>LMO7</td>\n",
       "      <td>R3HDM4</td>\n",
       "      <td>APP</td>\n",
       "      <td>RAD21</td>\n",
       "    </tr>\n",
       "    <tr>\n",
       "      <th>4</th>\n",
       "      <td>FADS2</td>\n",
       "      <td>IFNGR2</td>\n",
       "      <td>SON</td>\n",
       "      <td>IMPAD1</td>\n",
       "      <td>MLLT6</td>\n",
       "      <td>PIM1</td>\n",
       "      <td>SPAG9</td>\n",
       "      <td>CCNE2</td>\n",
       "      <td>XKR4</td>\n",
       "      <td>TMEM170B</td>\n",
       "      <td>...</td>\n",
       "      <td>MAL2</td>\n",
       "      <td>CUL4B</td>\n",
       "      <td>TAT</td>\n",
       "      <td>SYNGR2</td>\n",
       "      <td>FBXO31</td>\n",
       "      <td>APPL1</td>\n",
       "      <td>PHF20L1</td>\n",
       "      <td>NEDD1</td>\n",
       "      <td>TGFBI</td>\n",
       "      <td>SLC3A2</td>\n",
       "    </tr>\n",
       "  </tbody>\n",
       "</table>\n",
       "<p>5 rows × 81 columns</p>\n",
       "</div>"
      ],
      "text/plain": [
       "  miR-10-5p miR-135ab-5p miR-218-5p miR-190-5p miR-193-3p miR-33-5p  \\\n",
       "0       MCU         LTV1       PHF3   TP53INP1    TFCP2L1    ZBTB41   \n",
       "1    ZNF274       RNF167     ICOSLG      WDR11    SLC40A1    ATP10B   \n",
       "2    ZNF367      HNRNPAB       MED1     DCBLD1      LAMC2    JARID2   \n",
       "3      GNL3         SSR1       TOB2     CREBBP      BAZ2A      PIM3   \n",
       "4     FADS2       IFNGR2        SON     IMPAD1      MLLT6      PIM1   \n",
       "\n",
       "  miR-182-5p miR-362-5p miR-23-3p miR-18-5p  ... miR-361-5p let-7d-3p  \\\n",
       "0     CTDSP1       DLL1     SGPP2     PRDX6  ...       BLMH     PSMB4   \n",
       "1      MYO1A     DNAJC5     NUAK2     MICU1  ...    SLFN12L     UBXN1   \n",
       "2       SKP1    TRPC4AP  PPP1R15B    SREBF1  ...      HIF1A     CCNL1   \n",
       "3      MYO19        CA1     SCYL3      FASN  ...     LARP4B    PLXNA1   \n",
       "4      SPAG9      CCNE2      XKR4  TMEM170B  ...       MAL2     CUL4B   \n",
       "\n",
       "  miR-375-3p miR-148-3p/152-3p miR-153-3p miR-146ab-5p miR-31-5p  \\\n",
       "0      RGS16             MGAT5      DOT1L         ATF6    MRPL44   \n",
       "1   EIF4EBP2              DEDD      ATP5O      ELMSAN1     SATB2   \n",
       "2     HPCAL1              STX7     GAPDHS       ZNF367     MYO19   \n",
       "3      NIPBL             AP1B1      NFAT5      ERBB2IP      LMO7   \n",
       "4        TAT            SYNGR2     FBXO31        APPL1   PHF20L1   \n",
       "\n",
       "  miR-132-3p/212-3p miR-99-5p/100-5p miR-28-5p/708-5p  \n",
       "0              VIL1            SCML4            KRT20  \n",
       "1              MAP7            TRIB2             DDX5  \n",
       "2             FOXO3            LPIN1            DCP1A  \n",
       "3            R3HDM4              APP            RAD21  \n",
       "4             NEDD1            TGFBI           SLC3A2  \n",
       "\n",
       "[5 rows x 81 columns]"
      ]
     },
     "execution_count": 4,
     "metadata": {},
     "output_type": "execute_result"
    }
   ],
   "source": [
    "miRNA_family.head()"
   ]
  },
  {
   "cell_type": "code",
   "execution_count": 5,
   "metadata": {},
   "outputs": [],
   "source": [
    "miRNA_target_list = miRNA_family.values.flatten() #make a list of all miRNA target "
   ]
  },
  {
   "cell_type": "code",
   "execution_count": 6,
   "metadata": {},
   "outputs": [
    {
     "data": {
      "text/plain": [
       "numpy.ndarray"
      ]
     },
     "execution_count": 6,
     "metadata": {},
     "output_type": "execute_result"
    }
   ],
   "source": [
    "# a list of all target genes\n",
    "miRNA_target_list = pd.Series(miRNA_target_list).dropna().unique()\n",
    "miRNA_target_list.shape\n",
    "type(miRNA_target_list)"
   ]
  },
  {
   "cell_type": "code",
   "execution_count": 10,
   "metadata": {},
   "outputs": [],
   "source": [
    "#discovery dataset\n",
    "disc = sc.read(os.path.join(data_path, \"VUMC_HTAN_DIS_EPI_V2.h5ad\" ))"
   ]
  },
  {
   "cell_type": "code",
   "execution_count": 11,
   "metadata": {},
   "outputs": [],
   "source": [
    "disc.raw = disc #save the raw count layer"
   ]
  },
  {
   "cell_type": "code",
   "execution_count": 12,
   "metadata": {},
   "outputs": [
    {
     "data": {
      "text/plain": [
       "AnnData object with n_obs × n_vars = 65088 × 35272\n",
       "    obs: 'HTAN Parent Data File ID', 'HTAN Specimen ID', 'Cell_Type', 'Polyp_Type', 'Sample_Classification'\n",
       "    var: 'mean', 'std'\n",
       "    obsm: 'X_pca', 'X_umap'"
      ]
     },
     "execution_count": 12,
     "metadata": {},
     "output_type": "execute_result"
    }
   ],
   "source": [
    "calc.normalization(disc) #inplace normalization "
   ]
  },
  {
   "cell_type": "code",
   "execution_count": 13,
   "metadata": {},
   "outputs": [
    {
     "data": {
      "text/plain": [
       "array([-975.4978 , -844.81464, -276.75848, ..., -266.5004 , 1126.9031 ,\n",
       "        411.42285], dtype=float32)"
      ]
     },
     "execution_count": 13,
     "metadata": {},
     "output_type": "execute_result"
    }
   ],
   "source": [
    "disc.X.sum(axis = 1)\n",
    "#check normalization status "
   ]
  },
  {
   "cell_type": "code",
   "execution_count": null,
   "metadata": {},
   "outputs": [],
   "source": []
  },
  {
   "cell_type": "markdown",
   "metadata": {},
   "source": [
    "## Score miRNA target genes "
   ]
  },
  {
   "cell_type": "code",
   "execution_count": null,
   "metadata": {},
   "outputs": [],
   "source": [
    "#this loop scores each miRNA family's target gene expression\n",
    "\n",
    "for i in range(len(miRNA_family.columns)):\n",
    "    fam_name = miRNA_family.columns[i]\n",
    "    sc.tl.score_genes(disc, gene_list=miRNA_family[fam_name].dropna(), \n",
    "                      ctrl_size=1000, use_raw=False, score_name=fam_name)\n",
    "\n",
    "\n"
   ]
  },
  {
   "cell_type": "code",
   "execution_count": null,
   "metadata": {},
   "outputs": [],
   "source": [
    "#score all miRNA target genes as one score \n",
    "#store as 'all_targets'\n",
    "sc.tl.score_genes(disc, gene_list= miRNA_target_list, ctrl_size=1000, use_raw=False, score_name=\"all_targets\")"
   ]
  },
  {
   "cell_type": "code",
   "execution_count": null,
   "metadata": {},
   "outputs": [],
   "source": [
    "#visualize the target gene score for one family\n",
    "sc.pl.umap(disc, color = miRNA_family.columns[60], use_raw = False, vmax = 5, ncols = 4)"
   ]
  },
  {
   "cell_type": "code",
   "execution_count": null,
   "metadata": {},
   "outputs": [],
   "source": []
  },
  {
   "cell_type": "code",
   "execution_count": null,
   "metadata": {},
   "outputs": [],
   "source": []
  },
  {
   "cell_type": "markdown",
   "metadata": {},
   "source": [
    "## KRAS mutation "
   ]
  },
  {
   "cell_type": "markdown",
   "metadata": {},
   "source": [
    "#### Getting KRAS mutation sample profile from the paper "
   ]
  },
  {
   "cell_type": "code",
   "execution_count": 45,
   "metadata": {},
   "outputs": [
    {
     "name": "stdout",
     "output_type": "stream",
     "text": [
      "5048\n"
     ]
    }
   ],
   "source": [
    "#adding KRAS mutation information to samples \n",
    "\n",
    "#see Chen et al., 2021, Cell 184, 6262–6280, https://doi.org/10.1016/j.cell.2021.11.031\n",
    "#Figure 1C\n",
    "\n",
    "\n",
    "KRAS_mut = []\n",
    "num = 0\n",
    "for i in range(disc.n_obs):\n",
    "    if(disc.obs[\"Patient\"][i] == \"HTA11_866\" or disc.obs[\"Patient\"][i] == \"HT11_5212\"):\n",
    "        num+=1\n",
    "        KRAS_mut.append(\"missense\")\n",
    "    elif(disc.obs[\"Patient\"][i] == \"HTA11_1938\"):\n",
    "        KRAS_mut.append(\"multi-hit\")\n",
    "        num+=1\n",
    "    else:\n",
    "        KRAS_mut.append(\"no\")\n",
    "\n",
    "print(num)"
   ]
  },
  {
   "cell_type": "code",
   "execution_count": 46,
   "metadata": {},
   "outputs": [],
   "source": [
    "disc.obs[\"KRAS_mutation\"] = KRAS_mut"
   ]
  },
  {
   "cell_type": "code",
   "execution_count": 22,
   "metadata": {},
   "outputs": [
    {
     "data": {
      "text/plain": [
       "['no', 'multi-hit', 'missense']\n",
       "Categories (3, object): ['no', 'multi-hit', 'missense']"
      ]
     },
     "execution_count": 22,
     "metadata": {},
     "output_type": "execute_result"
    }
   ],
   "source": [
    "disc.obs[\"KRAS_mutation\"].unique()"
   ]
  },
  {
   "cell_type": "markdown",
   "metadata": {},
   "source": [
    "#### Specify KRAS multi-hit"
   ]
  },
  {
   "cell_type": "code",
   "execution_count": 30,
   "metadata": {},
   "outputs": [
    {
     "name": "stdout",
     "output_type": "stream",
     "text": [
      "kras multi column correct length: True\n"
     ]
    }
   ],
   "source": [
    "kras_multi_col = []\n",
    "for i in range(disc.n_obs):\n",
    "    if disc.obs[\"KRAS_mutation\"][i] == 'multi-hit':\n",
    "        kras_multi_col.append(\"True\")\n",
    "    else:\n",
    "        kras_multi_col.append(\"False\" )\n",
    "print(f\"kras multi column correct length: {len(kras_multi_col) == disc.n_obs}\")"
   ]
  },
  {
   "cell_type": "code",
   "execution_count": 31,
   "metadata": {},
   "outputs": [],
   "source": [
    "disc.obs[\"KRAS Multi-hit\"] = kras_multi_col"
   ]
  },
  {
   "cell_type": "code",
   "execution_count": null,
   "metadata": {},
   "outputs": [],
   "source": []
  },
  {
   "cell_type": "code",
   "execution_count": null,
   "metadata": {},
   "outputs": [],
   "source": []
  },
  {
   "cell_type": "markdown",
   "metadata": {},
   "source": [
    "## Save the header layer"
   ]
  },
  {
   "cell_type": "code",
   "execution_count": 17,
   "metadata": {},
   "outputs": [],
   "source": [
    "#save the scores and other information columns to a new h5ad file \n",
    "header= disc\n",
    "del header.X # do not save the count matrix"
   ]
  },
  {
   "cell_type": "code",
   "execution_count": 33,
   "metadata": {},
   "outputs": [
    {
     "name": "stderr",
     "output_type": "stream",
     "text": [
      "... storing 'KRAS Multi-hit' as categorical\n"
     ]
    }
   ],
   "source": [
    "header.write(\"./disc_header.h5ad\", compression='gzip')"
   ]
  },
  {
   "cell_type": "code",
   "execution_count": 34,
   "metadata": {},
   "outputs": [],
   "source": [
    "#"
   ]
  },
  {
   "cell_type": "code",
   "execution_count": null,
   "metadata": {},
   "outputs": [],
   "source": []
  }
 ],
 "metadata": {
  "kernelspec": {
   "display_name": "qc_pipe",
   "language": "python",
   "name": "qc_pipe"
  },
  "language_info": {
   "codemirror_mode": {
    "name": "ipython",
    "version": 3
   },
   "file_extension": ".py",
   "mimetype": "text/x-python",
   "name": "python",
   "nbconvert_exporter": "python",
   "pygments_lexer": "ipython3",
   "version": "3.8.5"
  }
 },
 "nbformat": 4,
 "nbformat_minor": 4
}
